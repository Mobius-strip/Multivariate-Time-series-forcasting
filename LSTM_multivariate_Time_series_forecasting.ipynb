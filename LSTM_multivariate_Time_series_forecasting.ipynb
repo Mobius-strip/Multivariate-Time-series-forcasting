{
  "cells": [
    {
      "cell_type": "code",
      "source": [],
      "metadata": {
        "id": "1nd2SObBDi1Q"
      },
      "execution_count": null,
      "outputs": []
    },
    {
      "cell_type": "markdown",
      "source": [
        "# q2\n"
      ],
      "metadata": {
        "id": "9r09Iwx9DjrY"
      }
    },
    {
      "cell_type": "code",
      "execution_count": null,
      "metadata": {
        "colab": {
          "base_uri": "https://localhost:8080/"
        },
        "id": "mvbpqmVcozox",
        "outputId": "c1f078f2-2f45-454c-f21f-2a7d316c975b"
      },
      "outputs": [
        {
          "output_type": "stream",
          "name": "stdout",
          "text": [
            "Mounted at /content/gdrive\n"
          ]
        }
      ],
      "source": [
        "from google.colab import drive\n",
        "\n",
        "drive.mount(\"/content/gdrive\", force_remount=True)"
      ]
    },
    {
      "cell_type": "code",
      "execution_count": null,
      "metadata": {
        "colab": {
          "base_uri": "https://localhost:8080/"
        },
        "id": "JPyUyeTvoiXL",
        "outputId": "d9b24b8f-1f39-4194-b69f-dfa292379cdb"
      },
      "outputs": [
        {
          "output_type": "stream",
          "name": "stdout",
          "text": [
            "Archive:  /content/gdrive/MyDrive/household_power_consumption.zip\n",
            "replace household_power_consumption.txt? [y]es, [n]o, [A]ll, [N]one, [r]ename: n\n"
          ]
        }
      ],
      "source": [
        "!unzip /content/gdrive/MyDrive/household_power_consumption.zip"
      ]
    },
    {
      "cell_type": "code",
      "execution_count": null,
      "metadata": {
        "id": "Y6_PhRu3BRP1"
      },
      "outputs": [],
      "source": []
    },
    {
      "cell_type": "markdown",
      "metadata": {
        "id": "GC-0I9wSBRpg"
      },
      "source": [
        "# 80:20\n"
      ]
    },
    {
      "cell_type": "code",
      "source": [],
      "metadata": {
        "id": "S3jtb96NDfhy"
      },
      "execution_count": null,
      "outputs": []
    },
    {
      "cell_type": "code",
      "execution_count": null,
      "metadata": {
        "colab": {
          "base_uri": "https://localhost:8080/",
          "height": 206
        },
        "id": "NX2DkMPCqFE7",
        "outputId": "39664b52-8670-4521-e353-96fd174ae8f9"
      },
      "outputs": [
        {
          "output_type": "execute_result",
          "data": {
            "text/plain": [
              "             DateTime  Global_active_power  Global_reactive_power     Voltage  \\\n",
              "0 2006-12-16 17:24:00                4.216                  0.418  234.839996   \n",
              "1 2006-12-16 17:25:00                5.360                  0.436  233.630005   \n",
              "2 2006-12-16 17:26:00                5.374                  0.498  233.289993   \n",
              "3 2006-12-16 17:27:00                5.388                  0.502  233.740005   \n",
              "4 2006-12-16 17:28:00                3.666                  0.528  235.679993   \n",
              "\n",
              "   Global_intensity  Sub_metering_1  Sub_metering_2  Sub_metering_3  \n",
              "0              18.4             0.0             1.0            17.0  \n",
              "1              23.0             0.0             1.0            16.0  \n",
              "2              23.0             0.0             2.0            17.0  \n",
              "3              23.0             0.0             1.0            17.0  \n",
              "4              15.8             0.0             1.0            17.0  "
            ],
            "text/html": [
              "\n",
              "  <div id=\"df-78bb468e-4a52-40b9-a180-95dfbaf2c18c\">\n",
              "    <div class=\"colab-df-container\">\n",
              "      <div>\n",
              "<style scoped>\n",
              "    .dataframe tbody tr th:only-of-type {\n",
              "        vertical-align: middle;\n",
              "    }\n",
              "\n",
              "    .dataframe tbody tr th {\n",
              "        vertical-align: top;\n",
              "    }\n",
              "\n",
              "    .dataframe thead th {\n",
              "        text-align: right;\n",
              "    }\n",
              "</style>\n",
              "<table border=\"1\" class=\"dataframe\">\n",
              "  <thead>\n",
              "    <tr style=\"text-align: right;\">\n",
              "      <th></th>\n",
              "      <th>DateTime</th>\n",
              "      <th>Global_active_power</th>\n",
              "      <th>Global_reactive_power</th>\n",
              "      <th>Voltage</th>\n",
              "      <th>Global_intensity</th>\n",
              "      <th>Sub_metering_1</th>\n",
              "      <th>Sub_metering_2</th>\n",
              "      <th>Sub_metering_3</th>\n",
              "    </tr>\n",
              "  </thead>\n",
              "  <tbody>\n",
              "    <tr>\n",
              "      <th>0</th>\n",
              "      <td>2006-12-16 17:24:00</td>\n",
              "      <td>4.216</td>\n",
              "      <td>0.418</td>\n",
              "      <td>234.839996</td>\n",
              "      <td>18.4</td>\n",
              "      <td>0.0</td>\n",
              "      <td>1.0</td>\n",
              "      <td>17.0</td>\n",
              "    </tr>\n",
              "    <tr>\n",
              "      <th>1</th>\n",
              "      <td>2006-12-16 17:25:00</td>\n",
              "      <td>5.360</td>\n",
              "      <td>0.436</td>\n",
              "      <td>233.630005</td>\n",
              "      <td>23.0</td>\n",
              "      <td>0.0</td>\n",
              "      <td>1.0</td>\n",
              "      <td>16.0</td>\n",
              "    </tr>\n",
              "    <tr>\n",
              "      <th>2</th>\n",
              "      <td>2006-12-16 17:26:00</td>\n",
              "      <td>5.374</td>\n",
              "      <td>0.498</td>\n",
              "      <td>233.289993</td>\n",
              "      <td>23.0</td>\n",
              "      <td>0.0</td>\n",
              "      <td>2.0</td>\n",
              "      <td>17.0</td>\n",
              "    </tr>\n",
              "    <tr>\n",
              "      <th>3</th>\n",
              "      <td>2006-12-16 17:27:00</td>\n",
              "      <td>5.388</td>\n",
              "      <td>0.502</td>\n",
              "      <td>233.740005</td>\n",
              "      <td>23.0</td>\n",
              "      <td>0.0</td>\n",
              "      <td>1.0</td>\n",
              "      <td>17.0</td>\n",
              "    </tr>\n",
              "    <tr>\n",
              "      <th>4</th>\n",
              "      <td>2006-12-16 17:28:00</td>\n",
              "      <td>3.666</td>\n",
              "      <td>0.528</td>\n",
              "      <td>235.679993</td>\n",
              "      <td>15.8</td>\n",
              "      <td>0.0</td>\n",
              "      <td>1.0</td>\n",
              "      <td>17.0</td>\n",
              "    </tr>\n",
              "  </tbody>\n",
              "</table>\n",
              "</div>\n",
              "      <button class=\"colab-df-convert\" onclick=\"convertToInteractive('df-78bb468e-4a52-40b9-a180-95dfbaf2c18c')\"\n",
              "              title=\"Convert this dataframe to an interactive table.\"\n",
              "              style=\"display:none;\">\n",
              "        \n",
              "  <svg xmlns=\"http://www.w3.org/2000/svg\" height=\"24px\"viewBox=\"0 0 24 24\"\n",
              "       width=\"24px\">\n",
              "    <path d=\"M0 0h24v24H0V0z\" fill=\"none\"/>\n",
              "    <path d=\"M18.56 5.44l.94 2.06.94-2.06 2.06-.94-2.06-.94-.94-2.06-.94 2.06-2.06.94zm-11 1L8.5 8.5l.94-2.06 2.06-.94-2.06-.94L8.5 2.5l-.94 2.06-2.06.94zm10 10l.94 2.06.94-2.06 2.06-.94-2.06-.94-.94-2.06-.94 2.06-2.06.94z\"/><path d=\"M17.41 7.96l-1.37-1.37c-.4-.4-.92-.59-1.43-.59-.52 0-1.04.2-1.43.59L10.3 9.45l-7.72 7.72c-.78.78-.78 2.05 0 2.83L4 21.41c.39.39.9.59 1.41.59.51 0 1.02-.2 1.41-.59l7.78-7.78 2.81-2.81c.8-.78.8-2.07 0-2.86zM5.41 20L4 18.59l7.72-7.72 1.47 1.35L5.41 20z\"/>\n",
              "  </svg>\n",
              "      </button>\n",
              "      \n",
              "  <style>\n",
              "    .colab-df-container {\n",
              "      display:flex;\n",
              "      flex-wrap:wrap;\n",
              "      gap: 12px;\n",
              "    }\n",
              "\n",
              "    .colab-df-convert {\n",
              "      background-color: #E8F0FE;\n",
              "      border: none;\n",
              "      border-radius: 50%;\n",
              "      cursor: pointer;\n",
              "      display: none;\n",
              "      fill: #1967D2;\n",
              "      height: 32px;\n",
              "      padding: 0 0 0 0;\n",
              "      width: 32px;\n",
              "    }\n",
              "\n",
              "    .colab-df-convert:hover {\n",
              "      background-color: #E2EBFA;\n",
              "      box-shadow: 0px 1px 2px rgba(60, 64, 67, 0.3), 0px 1px 3px 1px rgba(60, 64, 67, 0.15);\n",
              "      fill: #174EA6;\n",
              "    }\n",
              "\n",
              "    [theme=dark] .colab-df-convert {\n",
              "      background-color: #3B4455;\n",
              "      fill: #D2E3FC;\n",
              "    }\n",
              "\n",
              "    [theme=dark] .colab-df-convert:hover {\n",
              "      background-color: #434B5C;\n",
              "      box-shadow: 0px 1px 3px 1px rgba(0, 0, 0, 0.15);\n",
              "      filter: drop-shadow(0px 1px 2px rgba(0, 0, 0, 0.3));\n",
              "      fill: #FFFFFF;\n",
              "    }\n",
              "  </style>\n",
              "\n",
              "      <script>\n",
              "        const buttonEl =\n",
              "          document.querySelector('#df-78bb468e-4a52-40b9-a180-95dfbaf2c18c button.colab-df-convert');\n",
              "        buttonEl.style.display =\n",
              "          google.colab.kernel.accessAllowed ? 'block' : 'none';\n",
              "\n",
              "        async function convertToInteractive(key) {\n",
              "          const element = document.querySelector('#df-78bb468e-4a52-40b9-a180-95dfbaf2c18c');\n",
              "          const dataTable =\n",
              "            await google.colab.kernel.invokeFunction('convertToInteractive',\n",
              "                                                     [key], {});\n",
              "          if (!dataTable) return;\n",
              "\n",
              "          const docLinkHtml = 'Like what you see? Visit the ' +\n",
              "            '<a target=\"_blank\" href=https://colab.research.google.com/notebooks/data_table.ipynb>data table notebook</a>'\n",
              "            + ' to learn more about interactive tables.';\n",
              "          element.innerHTML = '';\n",
              "          dataTable['output_type'] = 'display_data';\n",
              "          await google.colab.output.renderOutput(dataTable, element);\n",
              "          const docLink = document.createElement('div');\n",
              "          docLink.innerHTML = docLinkHtml;\n",
              "          element.appendChild(docLink);\n",
              "        }\n",
              "      </script>\n",
              "    </div>\n",
              "  </div>\n",
              "  "
            ]
          },
          "metadata": {},
          "execution_count": 3
        }
      ],
      "source": [
        "import pandas as pd\n",
        "import numpy as np\n",
        "\n",
        "# Load the dataset\n",
        "df = pd.read_csv('household_power_consumption.txt', delimiter=';', \n",
        "                 parse_dates={'DateTime' : ['Date', 'Time']}, infer_datetime_format=True, \n",
        "                 low_memory=False, na_values=['nan','?'])\n",
        "\n",
        "# Drop rows with missing values\n",
        "df.dropna(inplace=True)\n",
        "\n",
        "# Convert data types of relevant columns\n",
        "df['Global_active_power'] = pd.to_numeric(df['Global_active_power'], downcast='float')\n",
        "df['Global_reactive_power'] = pd.to_numeric(df['Global_reactive_power'], downcast='float')\n",
        "df['Voltage'] = pd.to_numeric(df['Voltage'], downcast='float')\n",
        "df['Global_intensity'] = pd.to_numeric(df['Global_intensity'], downcast='float')\n",
        "\n",
        "\n",
        "\n",
        "# Print the first few rows of the preprocessed DataFrame\n",
        "df.head()"
      ]
    },
    {
      "cell_type": "code",
      "execution_count": null,
      "metadata": {
        "id": "IIl0gomkPwgD"
      },
      "outputs": [],
      "source": [
        "df.set_index('DateTime', inplace=True)"
      ]
    },
    {
      "cell_type": "code",
      "execution_count": null,
      "metadata": {
        "id": "ezo8BdyFwD9_"
      },
      "outputs": [],
      "source": [
        "import matplotlib.pyplot as plt\n"
      ]
    },
    {
      "cell_type": "code",
      "execution_count": null,
      "metadata": {
        "colab": {
          "base_uri": "https://localhost:8080/",
          "height": 472
        },
        "id": "AElQFyQwqY-z",
        "outputId": "6a982f51-11fe-479a-a470-b2de729b924f"
      },
      "outputs": [
        {
          "output_type": "display_data",
          "data": {
            "text/plain": [
              "<Figure size 640x480 with 1 Axes>"
            ],
            "image/png": "[encoded data removed]"
          },
          "metadata": {}
        }
      ],
      "source": [
        "plt.plot(df.Global_active_power)\n",
        "plt.xlabel(\"Time\")\n",
        "plt.ylabel(\"Global_active_power\")\n",
        "plt.title(\"Global_active_power over time\")\n",
        "plt.savefig(\"initial_plot.png\", dpi=1000)\n",
        "plt.show();"
      ]
    },
    {
      "cell_type": "code",
      "execution_count": null,
      "metadata": {
        "id": "_r3L2igaqvl1"
      },
      "outputs": [],
      "source": [
        "window_size=5"
      ]
    },
    {
      "cell_type": "code",
      "execution_count": null,
      "metadata": {
        "id": "IcgVDLx6pyTO"
      },
      "outputs": [],
      "source": [
        "def df_to_X_y2(df, window_size=6):\n",
        "  df_as_np = df.to_numpy()\n",
        "  X = []\n",
        "  y = []\n",
        "  for i in range(len(df_as_np)-window_size):\n",
        "    row = [r for r in df_as_np[i:i+window_size]]\n",
        "    X.append(row)\n",
        "    label = df_as_np[i+window_size][0]\n",
        "    y.append(label)\n",
        "  return np.array(X), np.array(y)"
      ]
    },
    {
      "cell_type": "code",
      "execution_count": null,
      "metadata": {
        "colab": {
          "base_uri": "https://localhost:8080/"
        },
        "id": "SYBTpTJQq-Zb",
        "outputId": "d47e8533-1e38-48af-cca6-17dfc98df683"
      },
      "outputs": [
        {
          "output_type": "execute_result",
          "data": {
            "text/plain": [
              "((2049275, 5, 7), (2049275,))"
            ]
          },
          "metadata": {},
          "execution_count": 9
        }
      ],
      "source": [
        "X1, y1 = df_to_X_y2(df,window_size)\n",
        "X1.shape, y1.shape"
      ]
    },
    {
      "cell_type": "code",
      "execution_count": null,
      "metadata": {
        "id": "hS53FTGGrdmT"
      },
      "outputs": [],
      "source": [
        "from sklearn.preprocessing import StandardScaler, MinMaxScaler\n",
        "mm = MinMaxScaler()\n",
        "ss = StandardScaler()\n",
        "\n",
        "#X_trans = ss.fit_transform(X1)\n",
        "y1 = mm.fit_transform(y1.reshape(-1, 1))"
      ]
    },
    {
      "cell_type": "code",
      "execution_count": null,
      "metadata": {
        "id": "TItH1ONpu501"
      },
      "outputs": [],
      "source": [
        "temp_training_mean = np.mean(X1[:, :, 0])\n",
        "temp_training_std = np.std(X1[:, :, 0])\n",
        "X1[:, :, 0] = (X1[:, :, 0] - temp_training_mean) / temp_training_std"
      ]
    },
    {
      "cell_type": "code",
      "execution_count": null,
      "metadata": {
        "id": "mUCz3HVVw6D5"
      },
      "outputs": [],
      "source": [
        "import torch\n",
        "from torch.utils.data import Dataset, DataLoader\n",
        "\n",
        "class MyDataset(Dataset):\n",
        "    def __init__(self, data, targets):\n",
        "        self.data = torch.tensor(data, dtype=torch.float32)\n",
        "        self.targets = torch.tensor(targets, dtype=torch.float32)\n",
        "\n",
        "    def __len__(self):\n",
        "        return len(self.targets)\n",
        "\n",
        "    def __getitem__(self, index):\n",
        "        x = self.data[index]\n",
        "        y = self.targets[index]\n",
        "        return x, y\n",
        "\n",
        "def numpy_to_dataset(data, targets):\n",
        "    dataset = MyDataset(data, targets)\n",
        "    #dataloader = DataLoader(dataset, batch_size=batch_size, shuffle=True)\n",
        "    return dataset"
      ]
    },
    {
      "cell_type": "code",
      "execution_count": null,
      "metadata": {
        "id": "pxTmImoXyrv-"
      },
      "outputs": [],
      "source": [
        "train = numpy_to_dataset(X1[:int(len(X1)*0.8)], y1[:int(len(X1)*0.8)])\n",
        "test= numpy_to_dataset(X1[int(len(X1)*0.8):], y1[int(len(X1)*0.8):])"
      ]
    },
    {
      "cell_type": "code",
      "execution_count": null,
      "metadata": {
        "colab": {
          "base_uri": "https://localhost:8080/"
        },
        "id": "axOH7tQKzwY0",
        "outputId": "a8b7b172-bc69-4e09-f0e7-4e5b008a3084"
      },
      "outputs": [
        {
          "output_type": "stream",
          "name": "stdout",
          "text": [
            "Features shape: torch.Size([64, 5, 7])\n",
            "Target shape: torch.Size([64])\n"
          ]
        }
      ],
      "source": [
        "batch_size = 64\n",
        "train_loader = DataLoader(train, batch_size=batch_size, shuffle=True)\n",
        "test_loader = DataLoader(test, batch_size=batch_size, shuffle=False)\n",
        "\n",
        "X, y = next(iter(train_loader))\n",
        "\n",
        "y = y.view(-1)\n",
        "\n",
        "print(\"Features shape:\", X.shape)\n",
        "print(\"Target shape:\", y.shape)"
      ]
    },
    {
      "cell_type": "code",
      "execution_count": null,
      "metadata": {
        "id": "BHUdfLy8wTTR"
      },
      "outputs": [],
      "source": []
    },
    {
      "cell_type": "code",
      "execution_count": null,
      "metadata": {
        "id": "jvoY8fhj0siM"
      },
      "outputs": [],
      "source": [
        "from torch import nn\n",
        "\n",
        "class ShallowRegressionLSTM(nn.Module):\n",
        "    def __init__(self, num_sensors, hidden_units):\n",
        "        super().__init__()\n",
        "        self.num_sensors = num_sensors  # this is the number of features\n",
        "        self.hidden_units = hidden_units\n",
        "        self.num_layers = 1\n",
        "\n",
        "        self.lstm = nn.LSTM(\n",
        "            input_size=num_sensors,\n",
        "            hidden_size=hidden_units,\n",
        "            batch_first=True,\n",
        "            num_layers=self.num_layers\n",
        "        )\n",
        "\n",
        "        self.linear = nn.Linear(in_features=self.hidden_units, out_features=1)\n",
        "\n",
        "    def forward(self, x):\n",
        "        batch_size = x.shape[0]\n",
        "        h0 = torch.zeros(self.num_layers, batch_size, self.hidden_units).requires_grad_()\n",
        "        c0 = torch.zeros(self.num_layers, batch_size, self.hidden_units).requires_grad_()\n",
        "\n",
        "        _, (hn, _) = self.lstm(x, (h0, c0))\n",
        "        out = self.linear(hn[0]).flatten()  # First dim of Hn is num_layers, which is set to 1 above.\n",
        "\n",
        "        return out"
      ]
    },
    {
      "cell_type": "code",
      "execution_count": null,
      "metadata": {
        "id": "GE4Z6F65zMLH"
      },
      "outputs": [],
      "source": [
        "class LSTM1(nn.Module):\n",
        "    def __init__(self, num_sensors, hidden_units):\n",
        "        super().__init__()\n",
        "        self.lstm = nn.LSTM(num_sensors, hidden_units, batch_first=True)\n",
        "        self.linear = nn.Linear(hidden_units, 1)\n",
        "\n",
        "    def forward(self, x):\n",
        "        h, _ = self.lstm(x)\n",
        "        out = self.linear(h[:, -1])\n",
        "        return out.squeeze()"
      ]
    },
    {
      "cell_type": "code",
      "execution_count": null,
      "metadata": {
        "id": "W8on1mKv0xrj"
      },
      "outputs": [],
      "source": [
        "learning_rate = 5e-4\n",
        "num_hidden_units = 8\n",
        "\n",
        "model = LSTM1(num_sensors=7, hidden_units=num_hidden_units)\n",
        "loss_function = nn.MSELoss()\n",
        "optimizer = torch.optim.Adam(model.parameters(), lr=learning_rate)"
      ]
    },
    {
      "cell_type": "code",
      "execution_count": null,
      "metadata": {
        "id": "gBR7cq6809fS",
        "colab": {
          "base_uri": "https://localhost:8080/"
        },
        "outputId": "2eb9b699-16fe-4176-f464-702669da3c10"
      },
      "outputs": [
        {
          "output_type": "stream",
          "name": "stdout",
          "text": [
            "Untrained test\n",
            "--------\n",
            "Train loss: 0.155678478269131\n",
            "\n",
            "Epoch 0\n",
            "---------\n",
            "Train loss: 0.0012337247305211135\n",
            "Train loss: 0.00041707247489919185\n",
            "\n",
            "Epoch 1\n",
            "---------\n",
            "Train loss: 0.0006351673048515395\n",
            "Train loss: 0.0004223580398270957\n",
            "\n",
            "Epoch 2\n",
            "---------\n",
            "Train loss: 0.0006274130189337594\n",
            "Train loss: 0.00040110357913170823\n",
            "\n",
            "Epoch 3\n",
            "---------\n",
            "Train loss: 0.0006231987667999946\n",
            "Train loss: 0.0004155776455292663\n",
            "\n",
            "Epoch 4\n",
            "---------\n",
            "Train loss: 0.0006137608346381381\n",
            "Train loss: 0.0004038883350631437\n",
            "\n",
            "Epoch 5\n",
            "---------\n",
            "Train loss: 0.0006075647278972272\n",
            "Train loss: 0.00038592991248327343\n",
            "\n",
            "Epoch 6\n",
            "---------\n",
            "Train loss: 0.0006034537063018613\n",
            "Train loss: 0.0004108183550382345\n",
            "\n",
            "Epoch 7\n",
            "---------\n",
            "Train loss: 0.0006015139338287332\n",
            "Train loss: 0.0003881177229222465\n",
            "\n",
            "Epoch 8\n",
            "---------\n",
            "Train loss: 0.0006010627964502103\n",
            "Train loss: 0.00039560168291432826\n",
            "\n",
            "Epoch 9\n",
            "---------\n",
            "Train loss: 0.000601120244519583\n",
            "Train loss: 0.00038632958421906796\n",
            "\n"
          ]
        }
      ],
      "source": [
        "def train_model(data_loader, model, loss_function, optimizer):\n",
        "    num_batches = len(data_loader)\n",
        "    total_loss = 0\n",
        "    model.train()\n",
        "\n",
        "    for X, y in data_loader:\n",
        "        y = y.view(-1)\n",
        "        output = model(X)\n",
        "        loss = loss_function(output, y)\n",
        "\n",
        "        optimizer.zero_grad()\n",
        "        loss.backward()\n",
        "        optimizer.step()\n",
        "\n",
        "        total_loss += loss.item()\n",
        "\n",
        "    avg_loss = total_loss / num_batches\n",
        "    print(f\"Train loss: {avg_loss}\")\n",
        "    return avg_loss\n",
        "\n",
        "def test_model(data_loader, model, loss_function):\n",
        "\n",
        "    num_batches = len(data_loader)\n",
        "    total_loss = 0\n",
        "\n",
        "    model.eval()\n",
        "    with torch.no_grad():\n",
        "        for X, y in data_loader:\n",
        "            y = y.view(-1)\n",
        "            output = model(X)\n",
        "    \n",
        "            total_loss += loss_function(output, y).item()\n",
        "\n",
        "    avg_loss = total_loss / num_batches\n",
        "    print(f\"Train loss: {avg_loss}\")\n",
        "    return avg_loss\n",
        "\n",
        "\n",
        "print(\"Untrained test\\n--------\")\n",
        "test_model(test_loader, model, loss_function)\n",
        "print()\n",
        "\n",
        "\n",
        "loss=[]\n",
        "test_loss=[]\n",
        "for ix_epoch in range(10):\n",
        "    print(f\"Epoch {ix_epoch}\\n---------\")\n",
        "    loss.append(train_model(train_loader, model, loss_function, optimizer=optimizer))\n",
        "    test_loss.append(test_model(test_loader, model, loss_function))\n",
        "    print()"
      ]
    },
    {
      "cell_type": "code",
      "execution_count": null,
      "metadata": {
        "colab": {
          "base_uri": "https://localhost:8080/",
          "height": 472
        },
        "id": "5CRMrfym6hp7",
        "outputId": "ff2eaa6c-bcf7-459c-bd0f-8b749ad3dcbf"
      },
      "outputs": [
        {
          "output_type": "display_data",
          "data": {
            "text/plain": [
              "<Figure size 640x480 with 1 Axes>"
            ],
            "image/png": "[encoded data removed]"
          },
          "metadata": {}
        }
      ],
      "source": [
        "import matplotlib.pyplot as plt\n",
        "\n",
        "# define the training and validation loss lists\n",
        "\n",
        "\n",
        "# create a range for the x-axis (epochs)\n",
        "epochs = range(1, len(loss) + 1)\n",
        "\n",
        "# plot the training and validation loss\n",
        "plt.plot(epochs, loss, label='Training loss')\n",
        "plt.plot(epochs, test_loss, label='Validation loss')\n",
        "\n",
        "# add titles and labels to the plot\n",
        "plt.title('Training and Validation loss')\n",
        "plt.xlabel('Epochs')\n",
        "plt.ylabel('Loss')\n",
        "plt.legend()\n",
        "\n",
        "# display the plot\n",
        "plt.show()"
      ]
    },
    {
      "cell_type": "code",
      "execution_count": null,
      "metadata": {
        "id": "Cir0Fmyt66JX",
        "colab": {
          "base_uri": "https://localhost:8080/"
        },
        "outputId": "2a8c181f-33e1-42ab-972f-9d5d2da889f8"
      },
      "outputs": [
        {
          "output_type": "stream",
          "name": "stderr",
          "text": [
            "/usr/local/lib/python3.9/dist-packages/torch/nn/modules/loss.py:536: UserWarning: Using a target size (torch.Size([1])) that is different to the input size (torch.Size([])). This will likely lead to incorrect results due to broadcasting. Please ensure they have the same size.\n",
            "  return F.mse_loss(input, target, reduction=self.reduction)\n"
          ]
        },
        {
          "output_type": "stream",
          "name": "stdout",
          "text": [
            "158.33907063776212\n"
          ]
        }
      ],
      "source": [
        "target=[]\n",
        "predict=[]\n",
        "model.eval()\n",
        "total_loss=0\n",
        "with torch.no_grad():\n",
        "        for X, y in test:\n",
        "            \n",
        "            target.append(y)\n",
        "            output = model(X.unsqueeze(0))\n",
        "            predict.append(output.item())\n",
        "            total_loss += loss_function(output, y).item()\n",
        "    \n",
        "print(total_loss)        "
      ]
    },
    {
      "cell_type": "code",
      "execution_count": null,
      "metadata": {
        "id": "IYkNIv-I9abC"
      },
      "outputs": [],
      "source": [
        "actual_values=target\n",
        "predicted_values=predict"
      ]
    },
    {
      "cell_type": "code",
      "execution_count": null,
      "metadata": {
        "colab": {
          "base_uri": "https://localhost:8080/",
          "height": 561
        },
        "id": "-llYDBdu92tE",
        "outputId": "5fd26645-d1b5-4013-cd74-c87c2f0d371b"
      },
      "outputs": [
        {
          "output_type": "stream",
          "name": "stderr",
          "text": [
            "/usr/local/lib/python3.9/dist-packages/numpy/core/shape_base.py:65: FutureWarning: The input object of type 'Tensor' is an array-like implementing one of the corresponding protocols (`__array__`, `__array_interface__` or `__array_struct__`); but not a sequence (or 0-D). In the future, this object will be coerced as if it was first converted using `np.array(obj)`. To retain the old behaviour, you have to either modify the type 'Tensor', or assign to an empty array created with `np.empty(correct_shape, dtype=object)`.\n",
            "  ary = asanyarray(ary)\n",
            "/usr/local/lib/python3.9/dist-packages/numpy/core/shape_base.py:65: VisibleDeprecationWarning: Creating an ndarray from ragged nested sequences (which is a list-or-tuple of lists-or-tuples-or ndarrays with different lengths or shapes) is deprecated. If you meant to do this, you must specify 'dtype=object' when creating the ndarray.\n",
            "  ary = asanyarray(ary)\n"
          ]
        },
        {
          "output_type": "display_data",
          "data": {
            "text/plain": [
              "<Figure size 640x480 with 1 Axes>"
            ],
            "image/png": "[encoded data removed]"
          },
          "metadata": {}
        }
      ],
      "source": [
        "import matplotlib.pyplot as plt\n",
        "plt.plot(predicted_values[:250],label=\"predicted\")\n",
        "plt.plot(actual_values[:250],label=\"actual\")\n",
        "plt.title('Multivariate series prediction')\n",
        "plt.xlabel('Global Avergae power scaled')\n",
        "plt.ylabel('Time')\n",
        "plt.legend()\n",
        "plt.show()"
      ]
    },
    {
      "cell_type": "code",
      "execution_count": null,
      "metadata": {
        "id": "92nSLIsVBlUk"
      },
      "outputs": [],
      "source": []
    },
    {
      "cell_type": "markdown",
      "metadata": {
        "id": "h8rK5pPsBl16"
      },
      "source": [
        "## 70:30\n"
      ]
    },
    {
      "cell_type": "code",
      "execution_count": null,
      "metadata": {
        "colab": {
          "base_uri": "https://localhost:8080/",
          "height": 206
        },
        "id": "vw2j_cWzBl16",
        "outputId": "20914a5a-55b7-4e4f-b1f8-3873a42182d4"
      },
      "outputs": [
        {
          "output_type": "execute_result",
          "data": {
            "text/plain": [
              "             DateTime  Global_active_power  Global_reactive_power     Voltage  \\\n",
              "0 2006-12-16 17:24:00                4.216                  0.418  234.839996   \n",
              "1 2006-12-16 17:25:00                5.360                  0.436  233.630005   \n",
              "2 2006-12-16 17:26:00                5.374                  0.498  233.289993   \n",
              "3 2006-12-16 17:27:00                5.388                  0.502  233.740005   \n",
              "4 2006-12-16 17:28:00                3.666                  0.528  235.679993   \n",
              "\n",
              "   Global_intensity  Sub_metering_1  Sub_metering_2  Sub_metering_3  \n",
              "0              18.4             0.0             1.0            17.0  \n",
              "1              23.0             0.0             1.0            16.0  \n",
              "2              23.0             0.0             2.0            17.0  \n",
              "3              23.0             0.0             1.0            17.0  \n",
              "4              15.8             0.0             1.0            17.0  "
            ],
            "text/html": [
              "\n",
              "  <div id=\"df-e3e12304-12a3-4f93-b630-9e3f867633aa\">\n",
              "    <div class=\"colab-df-container\">\n",
              "      <div>\n",
              "<style scoped>\n",
              "    .dataframe tbody tr th:only-of-type {\n",
              "        vertical-align: middle;\n",
              "    }\n",
              "\n",
              "    .dataframe tbody tr th {\n",
              "        vertical-align: top;\n",
              "    }\n",
              "\n",
              "    .dataframe thead th {\n",
              "        text-align: right;\n",
              "    }\n",
              "</style>\n",
              "<table border=\"1\" class=\"dataframe\">\n",
              "  <thead>\n",
              "    <tr style=\"text-align: right;\">\n",
              "      <th></th>\n",
              "      <th>DateTime</th>\n",
              "      <th>Global_active_power</th>\n",
              "      <th>Global_reactive_power</th>\n",
              "      <th>Voltage</th>\n",
              "      <th>Global_intensity</th>\n",
              "      <th>Sub_metering_1</th>\n",
              "      <th>Sub_metering_2</th>\n",
              "      <th>Sub_metering_3</th>\n",
              "    </tr>\n",
              "  </thead>\n",
              "  <tbody>\n",
              "    <tr>\n",
              "      <th>0</th>\n",
              "      <td>2006-12-16 17:24:00</td>\n",
              "      <td>4.216</td>\n",
              "      <td>0.418</td>\n",
              "      <td>234.839996</td>\n",
              "      <td>18.4</td>\n",
              "      <td>0.0</td>\n",
              "      <td>1.0</td>\n",
              "      <td>17.0</td>\n",
              "    </tr>\n",
              "    <tr>\n",
              "      <th>1</th>\n",
              "      <td>2006-12-16 17:25:00</td>\n",
              "      <td>5.360</td>\n",
              "      <td>0.436</td>\n",
              "      <td>233.630005</td>\n",
              "      <td>23.0</td>\n",
              "      <td>0.0</td>\n",
              "      <td>1.0</td>\n",
              "      <td>16.0</td>\n",
              "    </tr>\n",
              "    <tr>\n",
              "      <th>2</th>\n",
              "      <td>2006-12-16 17:26:00</td>\n",
              "      <td>5.374</td>\n",
              "      <td>0.498</td>\n",
              "      <td>233.289993</td>\n",
              "      <td>23.0</td>\n",
              "      <td>0.0</td>\n",
              "      <td>2.0</td>\n",
              "      <td>17.0</td>\n",
              "    </tr>\n",
              "    <tr>\n",
              "      <th>3</th>\n",
              "      <td>2006-12-16 17:27:00</td>\n",
              "      <td>5.388</td>\n",
              "      <td>0.502</td>\n",
              "      <td>233.740005</td>\n",
              "      <td>23.0</td>\n",
              "      <td>0.0</td>\n",
              "      <td>1.0</td>\n",
              "      <td>17.0</td>\n",
              "    </tr>\n",
              "    <tr>\n",
              "      <th>4</th>\n",
              "      <td>2006-12-16 17:28:00</td>\n",
              "      <td>3.666</td>\n",
              "      <td>0.528</td>\n",
              "      <td>235.679993</td>\n",
              "      <td>15.8</td>\n",
              "      <td>0.0</td>\n",
              "      <td>1.0</td>\n",
              "      <td>17.0</td>\n",
              "    </tr>\n",
              "  </tbody>\n",
              "</table>\n",
              "</div>\n",
              "      <button class=\"colab-df-convert\" onclick=\"convertToInteractive('df-e3e12304-12a3-4f93-b630-9e3f867633aa')\"\n",
              "              title=\"Convert this dataframe to an interactive table.\"\n",
              "              style=\"display:none;\">\n",
              "        \n",
              "  <svg xmlns=\"http://www.w3.org/2000/svg\" height=\"24px\"viewBox=\"0 0 24 24\"\n",
              "       width=\"24px\">\n",
              "    <path d=\"M0 0h24v24H0V0z\" fill=\"none\"/>\n",
              "    <path d=\"M18.56 5.44l.94 2.06.94-2.06 2.06-.94-2.06-.94-.94-2.06-.94 2.06-2.06.94zm-11 1L8.5 8.5l.94-2.06 2.06-.94-2.06-.94L8.5 2.5l-.94 2.06-2.06.94zm10 10l.94 2.06.94-2.06 2.06-.94-2.06-.94-.94-2.06-.94 2.06-2.06.94z\"/><path d=\"M17.41 7.96l-1.37-1.37c-.4-.4-.92-.59-1.43-.59-.52 0-1.04.2-1.43.59L10.3 9.45l-7.72 7.72c-.78.78-.78 2.05 0 2.83L4 21.41c.39.39.9.59 1.41.59.51 0 1.02-.2 1.41-.59l7.78-7.78 2.81-2.81c.8-.78.8-2.07 0-2.86zM5.41 20L4 18.59l7.72-7.72 1.47 1.35L5.41 20z\"/>\n",
              "  </svg>\n",
              "      </button>\n",
              "      \n",
              "  <style>\n",
              "    .colab-df-container {\n",
              "      display:flex;\n",
              "      flex-wrap:wrap;\n",
              "      gap: 12px;\n",
              "    }\n",
              "\n",
              "    .colab-df-convert {\n",
              "      background-color: #E8F0FE;\n",
              "      border: none;\n",
              "      border-radius: 50%;\n",
              "      cursor: pointer;\n",
              "      display: none;\n",
              "      fill: #1967D2;\n",
              "      height: 32px;\n",
              "      padding: 0 0 0 0;\n",
              "      width: 32px;\n",
              "    }\n",
              "\n",
              "    .colab-df-convert:hover {\n",
              "      background-color: #E2EBFA;\n",
              "      box-shadow: 0px 1px 2px rgba(60, 64, 67, 0.3), 0px 1px 3px 1px rgba(60, 64, 67, 0.15);\n",
              "      fill: #174EA6;\n",
              "    }\n",
              "\n",
              "    [theme=dark] .colab-df-convert {\n",
              "      background-color: #3B4455;\n",
              "      fill: #D2E3FC;\n",
              "    }\n",
              "\n",
              "    [theme=dark] .colab-df-convert:hover {\n",
              "      background-color: #434B5C;\n",
              "      box-shadow: 0px 1px 3px 1px rgba(0, 0, 0, 0.15);\n",
              "      filter: drop-shadow(0px 1px 2px rgba(0, 0, 0, 0.3));\n",
              "      fill: #FFFFFF;\n",
              "    }\n",
              "  </style>\n",
              "\n",
              "      <script>\n",
              "        const buttonEl =\n",
              "          document.querySelector('#df-e3e12304-12a3-4f93-b630-9e3f867633aa button.colab-df-convert');\n",
              "        buttonEl.style.display =\n",
              "          google.colab.kernel.accessAllowed ? 'block' : 'none';\n",
              "\n",
              "        async function convertToInteractive(key) {\n",
              "          const element = document.querySelector('#df-e3e12304-12a3-4f93-b630-9e3f867633aa');\n",
              "          const dataTable =\n",
              "            await google.colab.kernel.invokeFunction('convertToInteractive',\n",
              "                                                     [key], {});\n",
              "          if (!dataTable) return;\n",
              "\n",
              "          const docLinkHtml = 'Like what you see? Visit the ' +\n",
              "            '<a target=\"_blank\" href=https://colab.research.google.com/notebooks/data_table.ipynb>data table notebook</a>'\n",
              "            + ' to learn more about interactive tables.';\n",
              "          element.innerHTML = '';\n",
              "          dataTable['output_type'] = 'display_data';\n",
              "          await google.colab.output.renderOutput(dataTable, element);\n",
              "          const docLink = document.createElement('div');\n",
              "          docLink.innerHTML = docLinkHtml;\n",
              "          element.appendChild(docLink);\n",
              "        }\n",
              "      </script>\n",
              "    </div>\n",
              "  </div>\n",
              "  "
            ]
          },
          "metadata": {},
          "execution_count": 25
        }
      ],
      "source": [
        "import pandas as pd\n",
        "import numpy as np\n",
        "\n",
        "# Load the dataset\n",
        "df = pd.read_csv('household_power_consumption.txt', delimiter=';', \n",
        "                 parse_dates={'DateTime' : ['Date', 'Time']}, infer_datetime_format=True, \n",
        "                 low_memory=False, na_values=['nan','?'])\n",
        "\n",
        "# Drop rows with missing values\n",
        "df.dropna(inplace=True)\n",
        "\n",
        "# Convert data types of relevant columns\n",
        "df['Global_active_power'] = pd.to_numeric(df['Global_active_power'], downcast='float')\n",
        "df['Global_reactive_power'] = pd.to_numeric(df['Global_reactive_power'], downcast='float')\n",
        "df['Voltage'] = pd.to_numeric(df['Voltage'], downcast='float')\n",
        "df['Global_intensity'] = pd.to_numeric(df['Global_intensity'], downcast='float')\n",
        "\n",
        "\n",
        "\n",
        "# Print the first few rows of the preprocessed DataFrame\n",
        "df.head()"
      ]
    },
    {
      "cell_type": "code",
      "execution_count": null,
      "metadata": {
        "id": "tuFtCYhUBl16"
      },
      "outputs": [],
      "source": [
        "df.set_index('DateTime', inplace=True)"
      ]
    },
    {
      "cell_type": "code",
      "execution_count": null,
      "metadata": {
        "id": "jsLTQQMLBl17"
      },
      "outputs": [],
      "source": [
        "import matplotlib.pyplot as plt\n"
      ]
    },
    {
      "cell_type": "code",
      "execution_count": null,
      "metadata": {
        "colab": {
          "base_uri": "https://localhost:8080/",
          "height": 472
        },
        "id": "Y7rKz5ubBl17",
        "outputId": "89fc4088-a8a8-44e3-cd7c-7c8054afd437"
      },
      "outputs": [
        {
          "output_type": "display_data",
          "data": {
            "text/plain": [
              "<Figure size 640x480 with 1 Axes>"
            ],
            "image/png": "[encoded data removed]"
          },
          "metadata": {}
        }
      ],
      "source": [
        "plt.plot(df.Global_active_power)\n",
        "plt.xlabel(\"Time\")\n",
        "plt.ylabel(\"Global_active_power\")\n",
        "plt.title(\"Global_active_power over time\")\n",
        "plt.savefig(\"initial_plot.png\", dpi=1000)\n",
        "plt.show();"
      ]
    },
    {
      "cell_type": "code",
      "execution_count": null,
      "metadata": {
        "id": "6Rlx8ClZBl17"
      },
      "outputs": [],
      "source": [
        "window_size=5"
      ]
    },
    {
      "cell_type": "code",
      "execution_count": null,
      "metadata": {
        "id": "0zuBHseJBl17"
      },
      "outputs": [],
      "source": [
        "def df_to_X_y2(df, window_size=6):\n",
        "  df_as_np = df.to_numpy()\n",
        "  X = []\n",
        "  y = []\n",
        "  for i in range(len(df_as_np)-window_size):\n",
        "    row = [r for r in df_as_np[i:i+window_size]]\n",
        "    X.append(row)\n",
        "    label = df_as_np[i+window_size][0]\n",
        "    y.append(label)\n",
        "  return np.array(X), np.array(y)"
      ]
    },
    {
      "cell_type": "code",
      "execution_count": null,
      "metadata": {
        "colab": {
          "base_uri": "https://localhost:8080/"
        },
        "id": "S_YeDGgXBl17",
        "outputId": "34274aac-4ecd-44a6-914c-ae18d4f5b543"
      },
      "outputs": [
        {
          "output_type": "execute_result",
          "data": {
            "text/plain": [
              "((2049275, 5, 7), (2049275,))"
            ]
          },
          "metadata": {},
          "execution_count": 31
        }
      ],
      "source": [
        "X1, y1 = df_to_X_y2(df,window_size)\n",
        "X1.shape, y1.shape"
      ]
    },
    {
      "cell_type": "code",
      "execution_count": null,
      "metadata": {
        "id": "a6nb09MCBl17"
      },
      "outputs": [],
      "source": [
        "from sklearn.preprocessing import StandardScaler, MinMaxScaler\n",
        "mm = MinMaxScaler()\n",
        "ss = StandardScaler()\n",
        "\n",
        "#X_trans = ss.fit_transform(X1)\n",
        "y1 = mm.fit_transform(y1.reshape(-1, 1))"
      ]
    },
    {
      "cell_type": "code",
      "execution_count": null,
      "metadata": {
        "id": "Cqf6l4kZBl17"
      },
      "outputs": [],
      "source": [
        "temp_training_mean = np.mean(X1[:, :, 0])\n",
        "temp_training_std = np.std(X1[:, :, 0])\n",
        "X1[:, :, 0] = (X1[:, :, 0] - temp_training_mean) / temp_training_std"
      ]
    },
    {
      "cell_type": "code",
      "execution_count": null,
      "metadata": {
        "id": "8qLTgURsBl17"
      },
      "outputs": [],
      "source": [
        "import torch\n",
        "from torch.utils.data import Dataset, DataLoader\n",
        "\n",
        "class MyDataset(Dataset):\n",
        "    def __init__(self, data, targets):\n",
        "        self.data = torch.tensor(data, dtype=torch.float32)\n",
        "        self.targets = torch.tensor(targets, dtype=torch.float32)\n",
        "\n",
        "    def __len__(self):\n",
        "        return len(self.targets)\n",
        "\n",
        "    def __getitem__(self, index):\n",
        "        x = self.data[index]\n",
        "        y = self.targets[index]\n",
        "        return x, y\n",
        "\n",
        "def numpy_to_dataset(data, targets):\n",
        "    dataset = MyDataset(data, targets)\n",
        "    #dataloader = DataLoader(dataset, batch_size=batch_size, shuffle=True)\n",
        "    return dataset"
      ]
    },
    {
      "cell_type": "code",
      "execution_count": null,
      "metadata": {
        "id": "INwxiuEpBl17"
      },
      "outputs": [],
      "source": [
        "train = numpy_to_dataset(X1[:int(len(X1)*0.7)], y1[:int(len(X1)*0.7)])\n",
        "test= numpy_to_dataset(X1[int(len(X1)*0.7):], y1[int(len(X1)*0.7):])"
      ]
    },
    {
      "cell_type": "code",
      "execution_count": null,
      "metadata": {
        "colab": {
          "base_uri": "https://localhost:8080/"
        },
        "id": "SnYGcBDuBl18",
        "outputId": "4b558f6a-b2c5-46d0-d12e-60edec1ecd16"
      },
      "outputs": [
        {
          "output_type": "stream",
          "name": "stdout",
          "text": [
            "Features shape: torch.Size([64, 5, 7])\n",
            "Target shape: torch.Size([64])\n"
          ]
        }
      ],
      "source": [
        "batch_size = 64\n",
        "train_loader = DataLoader(train, batch_size=batch_size, shuffle=True)\n",
        "test_loader = DataLoader(test, batch_size=batch_size, shuffle=False)\n",
        "\n",
        "X, y = next(iter(train_loader))\n",
        "\n",
        "y = y.view(-1)\n",
        "\n",
        "print(\"Features shape:\", X.shape)\n",
        "print(\"Target shape:\", y.shape)"
      ]
    },
    {
      "cell_type": "code",
      "execution_count": null,
      "metadata": {
        "id": "xeiNtDYqBl18"
      },
      "outputs": [],
      "source": []
    },
    {
      "cell_type": "code",
      "execution_count": null,
      "metadata": {
        "id": "Yav1TycABl18"
      },
      "outputs": [],
      "source": [
        "from torch import nn\n",
        "\n",
        "class ShallowRegressionLSTM(nn.Module):\n",
        "    def __init__(self, num_sensors, hidden_units):\n",
        "        super().__init__()\n",
        "        self.num_sensors = num_sensors  # this is the number of features\n",
        "        self.hidden_units = hidden_units\n",
        "        self.num_layers = 1\n",
        "\n",
        "        self.lstm = nn.LSTM(\n",
        "            input_size=num_sensors,\n",
        "            hidden_size=hidden_units,\n",
        "            batch_first=True,\n",
        "            num_layers=self.num_layers\n",
        "        )\n",
        "\n",
        "        self.linear = nn.Linear(in_features=self.hidden_units, out_features=1)\n",
        "\n",
        "    def forward(self, x):\n",
        "        batch_size = x.shape[0]\n",
        "        h0 = torch.zeros(self.num_layers, batch_size, self.hidden_units).requires_grad_()\n",
        "        c0 = torch.zeros(self.num_layers, batch_size, self.hidden_units).requires_grad_()\n",
        "\n",
        "        _, (hn, _) = self.lstm(x, (h0, c0))\n",
        "        out = self.linear(hn[0]).flatten()  # First dim of Hn is num_layers, which is set to 1 above.\n",
        "\n",
        "        return out"
      ]
    },
    {
      "cell_type": "code",
      "execution_count": null,
      "metadata": {
        "id": "n8AaPauFBl18"
      },
      "outputs": [],
      "source": [
        "class LSTM1(nn.Module):\n",
        "    def __init__(self, num_sensors, hidden_units):\n",
        "        super().__init__()\n",
        "        self.lstm = nn.LSTM(num_sensors, hidden_units, batch_first=True)\n",
        "        self.linear = nn.Linear(hidden_units, 1)\n",
        "\n",
        "    def forward(self, x):\n",
        "        h, _ = self.lstm(x)\n",
        "        out = self.linear(h[:, -1])\n",
        "        return out.squeeze()"
      ]
    },
    {
      "cell_type": "code",
      "execution_count": null,
      "metadata": {
        "id": "hci0ySTuBl18"
      },
      "outputs": [],
      "source": [
        "learning_rate = 5e-4\n",
        "num_hidden_units = 8\n",
        "\n",
        "model = LSTM1(num_sensors=7, hidden_units=num_hidden_units)\n",
        "loss_function = nn.MSELoss()\n",
        "optimizer = torch.optim.Adam(model.parameters(), lr=learning_rate)"
      ]
    },
    {
      "cell_type": "code",
      "execution_count": null,
      "metadata": {
        "colab": {
          "base_uri": "https://localhost:8080/"
        },
        "id": "6HTEq4OrBl18",
        "outputId": "dbeef312-2536-4d96-8482-7286f28dc82c"
      },
      "outputs": [
        {
          "output_type": "stream",
          "name": "stdout",
          "text": [
            "Untrained test\n",
            "--------\n",
            "Train loss: 0.18311924281299918\n",
            "\n",
            "Epoch 0\n",
            "---------\n",
            "Train loss: 0.00082200170025817\n",
            "Train loss: 0.00046470041532134407\n",
            "\n",
            "Epoch 1\n",
            "---------\n",
            "Train loss: 0.0005942066708799706\n",
            "Train loss: 0.0004445052620242772\n",
            "\n",
            "Epoch 2\n",
            "---------\n",
            "Train loss: 0.0005841840307721079\n",
            "Train loss: 0.0004246734659131423\n",
            "\n",
            "Epoch 3\n",
            "---------\n",
            "Train loss: 0.0005766753717994254\n",
            "Train loss: 0.0004189338106351792\n",
            "\n",
            "Epoch 4\n",
            "---------\n",
            "Train loss: 0.0005717860732779151\n",
            "Train loss: 0.00041545419096534905\n",
            "\n",
            "Epoch 5\n",
            "---------\n",
            "Train loss: 0.0005695056127176918\n",
            "Train loss: 0.00042286863232286347\n",
            "\n",
            "Epoch 6\n",
            "---------\n",
            "Train loss: 0.0005686142081004784\n",
            "Train loss: 0.0004210545898703377\n",
            "\n",
            "Epoch 7\n",
            "---------\n",
            "Train loss: 0.0005679534631972317\n",
            "Train loss: 0.00043416095989903055\n",
            "\n",
            "Epoch 8\n",
            "---------\n",
            "Train loss: 0.0005667418612228327\n",
            "Train loss: 0.00041603397027768844\n",
            "\n",
            "Epoch 9\n",
            "---------\n",
            "Train loss: 0.0005662870089878193\n",
            "Train loss: 0.0004327955037714706\n",
            "\n"
          ]
        }
      ],
      "source": [
        "def train_model(data_loader, model, loss_function, optimizer):\n",
        "    num_batches = len(data_loader)\n",
        "    total_loss = 0\n",
        "    model.train()\n",
        "\n",
        "    for X, y in data_loader:\n",
        "        y = y.view(-1)\n",
        "        output = model(X)\n",
        "        loss = loss_function(output, y)\n",
        "\n",
        "        optimizer.zero_grad()\n",
        "        loss.backward()\n",
        "        optimizer.step()\n",
        "\n",
        "        total_loss += loss.item()\n",
        "\n",
        "    avg_loss = total_loss / num_batches\n",
        "    print(f\"Train loss: {avg_loss}\")\n",
        "    return avg_loss\n",
        "\n",
        "def test_model(data_loader, model, loss_function):\n",
        "\n",
        "    num_batches = len(data_loader)\n",
        "    total_loss = 0\n",
        "\n",
        "    model.eval()\n",
        "    with torch.no_grad():\n",
        "        for X, y in data_loader:\n",
        "            y = y.view(-1)\n",
        "            output = model(X)\n",
        "    \n",
        "            total_loss += loss_function(output, y).item()\n",
        "\n",
        "    avg_loss = total_loss / num_batches\n",
        "    print(f\"Train loss: {avg_loss}\")\n",
        "    return avg_loss\n",
        "\n",
        "\n",
        "print(\"Untrained test\\n--------\")\n",
        "test_model(test_loader, model, loss_function)\n",
        "print()\n",
        "\n",
        "\n",
        "loss=[]\n",
        "test_loss=[]\n",
        "for ix_epoch in range(10):\n",
        "    print(f\"Epoch {ix_epoch}\\n---------\")\n",
        "    loss.append(train_model(train_loader, model, loss_function, optimizer=optimizer))\n",
        "    test_loss.append(test_model(test_loader, model, loss_function))\n",
        "    print()"
      ]
    },
    {
      "cell_type": "code",
      "execution_count": null,
      "metadata": {
        "colab": {
          "base_uri": "https://localhost:8080/",
          "height": 472
        },
        "id": "1LHTtja4Bl18",
        "outputId": "6267a039-71e1-4c27-e23d-575f2f86fbe0"
      },
      "outputs": [
        {
          "output_type": "display_data",
          "data": {
            "text/plain": [
              "<Figure size 640x480 with 1 Axes>"
            ],
            "image/png": "[encoded data removed]"
          },
          "metadata": {}
        }
      ],
      "source": [
        "import matplotlib.pyplot as plt\n",
        "\n",
        "# define the training and validation loss lists\n",
        "\n",
        "\n",
        "# create a range for the x-axis (epochs)\n",
        "epochs = range(1, len(loss) + 1)\n",
        "\n",
        "# plot the training and validation loss\n",
        "plt.plot(epochs, loss, label='Training loss')\n",
        "plt.plot(epochs, test_loss, label='Validation loss')\n",
        "\n",
        "# add titles and labels to the plot\n",
        "plt.title('Training and Validation loss')\n",
        "plt.xlabel('Epochs')\n",
        "plt.ylabel('Loss')\n",
        "plt.legend()\n",
        "\n",
        "# display the plot\n",
        "plt.show()"
      ]
    },
    {
      "cell_type": "code",
      "execution_count": null,
      "metadata": {
        "id": "DlzY5zkeBl18",
        "colab": {
          "base_uri": "https://localhost:8080/"
        },
        "outputId": "ae46e20d-98cc-4b78-eaf3-1dc5eeebc00b"
      },
      "outputs": [
        {
          "output_type": "stream",
          "name": "stderr",
          "text": [
            "/usr/local/lib/python3.9/dist-packages/torch/nn/modules/loss.py:536: UserWarning: Using a target size (torch.Size([1])) that is different to the input size (torch.Size([])). This will likely lead to incorrect results due to broadcasting. Please ensure they have the same size.\n",
            "  return F.mse_loss(input, target, reduction=self.reduction)\n"
          ]
        }
      ],
      "source": [
        "target=[]\n",
        "predict=[]\n",
        "model.eval()\n",
        "total_loss=0\n",
        "with torch.no_grad():\n",
        "        for X, y in test:\n",
        "            \n",
        "            target.append(y)\n",
        "            output = model(X.unsqueeze(0))\n",
        "            predict.append(output.item())\n",
        "            total_loss += loss_function(output, y).item()\n",
        "    \n",
        "           "
      ]
    },
    {
      "cell_type": "code",
      "source": [
        "total_loss"
      ],
      "metadata": {
        "id": "3C26484poHvG",
        "outputId": "c3e03dad-c871-4d41-f4eb-ff37a0656103",
        "colab": {
          "base_uri": "https://localhost:8080/"
        }
      },
      "execution_count": null,
      "outputs": [
        {
          "output_type": "execute_result",
          "data": {
            "text/plain": [
              "266.0752071085376"
            ]
          },
          "metadata": {},
          "execution_count": 45
        }
      ]
    },
    {
      "cell_type": "code",
      "execution_count": null,
      "metadata": {
        "id": "l-SRpBYsBl18"
      },
      "outputs": [],
      "source": [
        "actual_values=target\n",
        "predicted_values=predict"
      ]
    },
    {
      "cell_type": "code",
      "execution_count": null,
      "metadata": {
        "colab": {
          "base_uri": "https://localhost:8080/",
          "height": 561
        },
        "id": "Bd4WQCRABl18",
        "outputId": "21d60526-45ce-440e-d6ad-5d3b8d840904"
      },
      "outputs": [
        {
          "output_type": "stream",
          "name": "stderr",
          "text": [
            "/usr/local/lib/python3.9/dist-packages/numpy/core/shape_base.py:65: FutureWarning: The input object of type 'Tensor' is an array-like implementing one of the corresponding protocols (`__array__`, `__array_interface__` or `__array_struct__`); but not a sequence (or 0-D). In the future, this object will be coerced as if it was first converted using `np.array(obj)`. To retain the old behaviour, you have to either modify the type 'Tensor', or assign to an empty array created with `np.empty(correct_shape, dtype=object)`.\n",
            "  ary = asanyarray(ary)\n",
            "/usr/local/lib/python3.9/dist-packages/numpy/core/shape_base.py:65: VisibleDeprecationWarning: Creating an ndarray from ragged nested sequences (which is a list-or-tuple of lists-or-tuples-or ndarrays with different lengths or shapes) is deprecated. If you meant to do this, you must specify 'dtype=object' when creating the ndarray.\n",
            "  ary = asanyarray(ary)\n"
          ]
        },
        {
          "output_type": "display_data",
          "data": {
            "text/plain": [
              "<Figure size 640x480 with 1 Axes>"
            ],
            "image/png": "[encoded data removed]"
          },
          "metadata": {}
        }
      ],
      "source": [
        "import matplotlib.pyplot as plt\n",
        "plt.plot(predicted_values[:250],label=\"predicted\")\n",
        "plt.plot(actual_values[:250],label=\"actual\")\n",
        "plt.title('Multivariate series prediction')\n",
        "plt.xlabel('Global Avergae power scaled')\n",
        "plt.ylabel('Time')\n",
        "plt.legend()\n",
        "plt.show()"
      ]
    }
  ],
  "metadata": {
    "colab": {
      "provenance": []
    },
    "gpuClass": "standard",
    "kernelspec": {
      "display_name": "Python 3",
      "name": "python3"
    },
    "language_info": {
      "name": "python"
    }
  },
  "nbformat": 4,
  "nbformat_minor": 0
}